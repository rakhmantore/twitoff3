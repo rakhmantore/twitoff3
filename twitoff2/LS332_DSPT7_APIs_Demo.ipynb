{
 "cells": [
  {
   "cell_type": "markdown",
   "metadata": {
    "colab": {
     "base_uri": "https://localhost:8080/",
     "height": 155
    },
    "colab_type": "code",
    "id": "SGPLRW-t1ECX",
    "outputId": "f774218a-8e3e-46b3-80ec-8eb1667ddd33"
   },
   "source": [
    "### DSPT6 - Unit 3 Module 2 - Consuming Data from an API\n",
    "\n",
    "The purpose of this notebook is to demonstrate:\n",
    "- Connect to the Twitter API (and twitter_scraper) to query for tweets and user information by various parameters\n",
    "- Convert tweet text using SpaCy into numerical embeddings that can be use in a predictive model"
   ]
  },
  {
   "cell_type": "code",
   "execution_count": 9,
   "metadata": {
    "colab": {},
    "colab_type": "code",
    "id": "vS_A9hjG1HGD"
   },
   "outputs": [],
   "source": [
    "import tweepy"
   ]
  },
  {
   "cell_type": "code",
   "execution_count": 11,
   "metadata": {
    "colab": {},
    "colab_type": "code",
    "id": "ntkRF7mp8zqp"
   },
   "outputs": [],
   "source": [
    "## ADD YOUR CREDENTIALS HERE\n",
    "TWITTER_CONSUMER_API_KEY = 'K9o9PyVAVfAQ178kboGebjzHq'\n",
    "TWITTER_CONSUMER_API_SECRET = 'Yil2U4MH82jufDEPsHKspIgGXCpvaQ3VA2n8aj7iEjNBpAEyWJ'\n",
    "TWITTER_ACCESS_TOKEN = '562748976-OwyEilAw17cMaAjPdYLtR9oTR5IP5W5dtkwjtTuO'\n",
    "TWITTER_ACCESS_TOKEN_SECRET = 'ecFivhBTO4XuLR8SafYqXsQ1ep9YSzMsE5Uv7IS8q7mnl'"
   ]
  },
  {
   "cell_type": "code",
   "execution_count": 13,
   "metadata": {
    "colab": {},
    "colab_type": "code",
    "id": "6F65yM5G1gP1"
   },
   "outputs": [],
   "source": [
    "TWITTER_AUTH = tweepy.OAuthHandler(TWITTER_CONSUMER_API_KEY, TWITTER_CONSUMER_API_SECRET)\n",
    "TWITTER_AUTH.set_access_token(TWITTER_ACCESS_TOKEN, TWITTER_ACCESS_TOKEN_SECRET)\n",
    "TWITTER = tweepy.API(TWITTER_AUTH)"
   ]
  },
  {
   "source": [
    "dir(TWITTER)"
   ],
   "cell_type": "code",
   "metadata": {},
   "execution_count": 15,
   "outputs": [
    {
     "output_type": "execute_result",
     "data": {
      "text/plain": "[&#39;__class__&#39;,\n &#39;__delattr__&#39;,\n &#39;__dict__&#39;,\n &#39;__dir__&#39;,\n &#39;__doc__&#39;,\n &#39;__eq__&#39;,\n &#39;__format__&#39;,\n &#39;__ge__&#39;,\n &#39;__getattribute__&#39;,\n &#39;__gt__&#39;,\n &#39;__hash__&#39;,\n &#39;__init__&#39;,\n &#39;__init_subclass__&#39;,\n &#39;__le__&#39;,\n &#39;__lt__&#39;,\n &#39;__module__&#39;,\n &#39;__ne__&#39;,\n &#39;__new__&#39;,\n &#39;__reduce__&#39;,\n &#39;__reduce_ex__&#39;,\n &#39;__repr__&#39;,\n &#39;__setattr__&#39;,\n &#39;__sizeof__&#39;,\n &#39;__str__&#39;,\n &#39;__subclasshook__&#39;,\n &#39;__weakref__&#39;,\n &#39;_add_list_members&#39;,\n &#39;_lookup_friendships&#39;,\n &#39;_pack_image&#39;,\n &#39;_remove_list_members&#39;,\n &#39;_send_direct_message&#39;,\n &#39;add_list_member&#39;,\n &#39;add_list_members&#39;,\n &#39;api_root&#39;,\n &#39;auth&#39;,\n &#39;blocks&#39;,\n &#39;blocks_ids&#39;,\n &#39;cache&#39;,\n &#39;compression&#39;,\n &#39;configuration&#39;,\n &#39;create_block&#39;,\n &#39;create_favorite&#39;,\n &#39;create_friendship&#39;,\n &#39;create_list&#39;,\n &#39;create_media_metadata&#39;,\n &#39;create_mute&#39;,\n &#39;create_saved_search&#39;,\n &#39;destroy_block&#39;,\n &#39;destroy_direct_message&#39;,\n &#39;destroy_favorite&#39;,\n &#39;destroy_friendship&#39;,\n &#39;destroy_list&#39;,\n &#39;destroy_mute&#39;,\n &#39;destroy_saved_search&#39;,\n &#39;destroy_status&#39;,\n &#39;favorites&#39;,\n &#39;followers&#39;,\n &#39;followers_ids&#39;,\n &#39;friends&#39;,\n &#39;friends_ids&#39;,\n &#39;friendships_incoming&#39;,\n &#39;friendships_outgoing&#39;,\n &#39;geo_id&#39;,\n &#39;geo_search&#39;,\n &#39;geo_similar_places&#39;,\n &#39;get_direct_message&#39;,\n &#39;get_list&#39;,\n &#39;get_oembed&#39;,\n &#39;get_saved_search&#39;,\n &#39;get_settings&#39;,\n &#39;get_status&#39;,\n &#39;get_user&#39;,\n &#39;home_timeline&#39;,\n &#39;host&#39;,\n &#39;list_direct_messages&#39;,\n &#39;list_members&#39;,\n &#39;list_subscribers&#39;,\n &#39;list_timeline&#39;,\n &#39;lists_all&#39;,\n &#39;lists_memberships&#39;,\n &#39;lists_subscriptions&#39;,\n &#39;lookup_friendships&#39;,\n &#39;lookup_users&#39;,\n &#39;me&#39;,\n &#39;media_upload&#39;,\n &#39;mentions_timeline&#39;,\n &#39;mutes&#39;,\n &#39;mutes_ids&#39;,\n &#39;parser&#39;,\n &#39;proxy&#39;,\n &#39;rate_limit_status&#39;,\n &#39;related_results&#39;,\n &#39;remove_list_member&#39;,\n &#39;remove_list_members&#39;,\n &#39;report_spam&#39;,\n &#39;retry_count&#39;,\n &#39;retry_delay&#39;,\n &#39;retry_errors&#39;,\n &#39;retweet&#39;,\n &#39;retweeters&#39;,\n &#39;retweets&#39;,\n &#39;retweets_of_me&#39;,\n &#39;reverse_geocode&#39;,\n &#39;saved_searches&#39;,\n &#39;search&#39;,\n &#39;search_host&#39;,\n &#39;search_root&#39;,\n &#39;search_users&#39;,\n &#39;send_direct_message&#39;,\n &#39;set_settings&#39;,\n &#39;show_friendship&#39;,\n &#39;show_list_member&#39;,\n &#39;show_list_subscriber&#39;,\n &#39;statuses_lookup&#39;,\n &#39;subscribe_list&#39;,\n &#39;supported_languages&#39;,\n &#39;timeout&#39;,\n &#39;trends_available&#39;,\n &#39;trends_closest&#39;,\n &#39;trends_place&#39;,\n &#39;unretweet&#39;,\n &#39;unsubscribe_list&#39;,\n &#39;update_list&#39;,\n &#39;update_profile&#39;,\n &#39;update_profile_background_image&#39;,\n &#39;update_profile_banner&#39;,\n &#39;update_profile_image&#39;,\n &#39;update_status&#39;,\n &#39;update_with_media&#39;,\n &#39;upload_host&#39;,\n &#39;upload_root&#39;,\n &#39;user_timeline&#39;,\n &#39;verify_credentials&#39;,\n &#39;wait_on_rate_limit&#39;,\n &#39;wait_on_rate_limit_notify&#39;]"
     },
     "metadata": {},
     "execution_count": 15
    }
   ]
  },
  {
   "cell_type": "code",
   "execution_count": 16,
   "metadata": {},
   "outputs": [
    {
     "output_type": "execute_result",
     "data": {
      "text/plain": "User(_api=&lt;tweepy.api.API object at 0x10d07fa00&gt;, _json={&#39;id&#39;: 44196397, &#39;id_str&#39;: &#39;44196397&#39;, &#39;name&#39;: &#39;Elon Musk&#39;, &#39;screen_name&#39;: &#39;elonmusk&#39;, &#39;location&#39;: &#39;&#39;, &#39;profile_location&#39;: None, &#39;description&#39;: &#39;&#39;, &#39;url&#39;: None, &#39;entities&#39;: {&#39;description&#39;: {&#39;urls&#39;: []}}, &#39;protected&#39;: False, &#39;followers_count&#39;: 39058426, &#39;friends_count&#39;: 97, &#39;listed_count&#39;: 56239, &#39;created_at&#39;: &#39;Tue Jun 02 20:12:29 +0000 2009&#39;, &#39;favourites_count&#39;: 6757, &#39;utc_offset&#39;: None, &#39;time_zone&#39;: None, &#39;geo_enabled&#39;: False, &#39;verified&#39;: True, &#39;statuses_count&#39;: 12446, &#39;lang&#39;: None, &#39;status&#39;: {&#39;created_at&#39;: &#39;Fri Oct 02 03:18:53 +0000 2020&#39;, &#39;id&#39;: 1311868226809204737, &#39;id_str&#39;: &#39;1311868226809204737&#39;, &#39;text&#39;: &#39;@MKBHD It’s next-level&#39;, &#39;truncated&#39;: False, &#39;entities&#39;: {&#39;hashtags&#39;: [], &#39;symbols&#39;: [], &#39;user_mentions&#39;: [{&#39;screen_name&#39;: &#39;MKBHD&#39;, &#39;name&#39;: &#39;Marques Brownlee&#39;, &#39;id&#39;: 29873662, &#39;id_str&#39;: &#39;29873662&#39;, &#39;indices&#39;: [0, 6]}], &#39;urls&#39;: []}, &#39;source&#39;: &#39;&lt;a href=&quot;http://twitter.com/download/iphone&quot; rel=&quot;nofollow&quot;&gt;Twitter for iPhone&lt;/a&gt;&#39;, &#39;in_reply_to_status_id&#39;: 1311862203490983937, &#39;in_reply_to_status_id_str&#39;: &#39;1311862203490983937&#39;, &#39;in_reply_to_user_id&#39;: 29873662, &#39;in_reply_to_user_id_str&#39;: &#39;29873662&#39;, &#39;in_reply_to_screen_name&#39;: &#39;MKBHD&#39;, &#39;geo&#39;: None, &#39;coordinates&#39;: None, &#39;place&#39;: None, &#39;contributors&#39;: None, &#39;is_quote_status&#39;: False, &#39;retweet_count&#39;: 113, &#39;favorite_count&#39;: 2929, &#39;favorited&#39;: False, &#39;retweeted&#39;: False, &#39;lang&#39;: &#39;en&#39;}, &#39;contributors_enabled&#39;: False, &#39;is_translator&#39;: False, &#39;is_translation_enabled&#39;: False, &#39;profile_background_color&#39;: &#39;C0DEED&#39;, &#39;profile_background_image_url&#39;: &#39;http://abs.twimg.com/images/themes/theme1/bg.png&#39;, &#39;profile_background_image_url_https&#39;: &#39;https://abs.twimg.com/images/themes/theme1/bg.png&#39;, &#39;profile_background_tile&#39;: False, &#39;profile_image_url&#39;: &#39;http://pbs.twimg.com/profile_images/1295975423654977537/dHw9JcrK_normal.jpg&#39;, &#39;profile_image_url_https&#39;: &#39;https://pbs.twimg.com/profile_images/1295975423654977537/dHw9JcrK_normal.jpg&#39;, &#39;profile_banner_url&#39;: &#39;https://pbs.twimg.com/profile_banners/44196397/1576183471&#39;, &#39;profile_link_color&#39;: &#39;0084B4&#39;, &#39;profile_sidebar_border_color&#39;: &#39;C0DEED&#39;, &#39;profile_sidebar_fill_color&#39;: &#39;DDEEF6&#39;, &#39;profile_text_color&#39;: &#39;333333&#39;, &#39;profile_use_background_image&#39;: True, &#39;has_extended_profile&#39;: True, &#39;default_profile&#39;: False, &#39;default_profile_image&#39;: False, &#39;following&#39;: True, &#39;follow_request_sent&#39;: False, &#39;notifications&#39;: False, &#39;translator_type&#39;: &#39;none&#39;}, id=44196397, id_str=&#39;44196397&#39;, name=&#39;Elon Musk&#39;, screen_name=&#39;elonmusk&#39;, location=&#39;&#39;, profile_location=None, description=&#39;&#39;, url=None, entities={&#39;description&#39;: {&#39;urls&#39;: []}}, protected=False, followers_count=39058426, friends_count=97, listed_count=56239, created_at=datetime.datetime(2009, 6, 2, 20, 12, 29), favourites_count=6757, utc_offset=None, time_zone=None, geo_enabled=False, verified=True, statuses_count=12446, lang=None, status=Status(_api=&lt;tweepy.api.API object at 0x10d07fa00&gt;, _json={&#39;created_at&#39;: &#39;Fri Oct 02 03:18:53 +0000 2020&#39;, &#39;id&#39;: 1311868226809204737, &#39;id_str&#39;: &#39;1311868226809204737&#39;, &#39;text&#39;: &#39;@MKBHD It’s next-level&#39;, &#39;truncated&#39;: False, &#39;entities&#39;: {&#39;hashtags&#39;: [], &#39;symbols&#39;: [], &#39;user_mentions&#39;: [{&#39;screen_name&#39;: &#39;MKBHD&#39;, &#39;name&#39;: &#39;Marques Brownlee&#39;, &#39;id&#39;: 29873662, &#39;id_str&#39;: &#39;29873662&#39;, &#39;indices&#39;: [0, 6]}], &#39;urls&#39;: []}, &#39;source&#39;: &#39;&lt;a href=&quot;http://twitter.com/download/iphone&quot; rel=&quot;nofollow&quot;&gt;Twitter for iPhone&lt;/a&gt;&#39;, &#39;in_reply_to_status_id&#39;: 1311862203490983937, &#39;in_reply_to_status_id_str&#39;: &#39;1311862203490983937&#39;, &#39;in_reply_to_user_id&#39;: 29873662, &#39;in_reply_to_user_id_str&#39;: &#39;29873662&#39;, &#39;in_reply_to_screen_name&#39;: &#39;MKBHD&#39;, &#39;geo&#39;: None, &#39;coordinates&#39;: None, &#39;place&#39;: None, &#39;contributors&#39;: None, &#39;is_quote_status&#39;: False, &#39;retweet_count&#39;: 113, &#39;favorite_count&#39;: 2929, &#39;favorited&#39;: False, &#39;retweeted&#39;: False, &#39;lang&#39;: &#39;en&#39;}, created_at=datetime.datetime(2020, 10, 2, 3, 18, 53), id=1311868226809204737, id_str=&#39;1311868226809204737&#39;, text=&#39;@MKBHD It’s next-level&#39;, truncated=False, entities={&#39;hashtags&#39;: [], &#39;symbols&#39;: [], &#39;user_mentions&#39;: [{&#39;screen_name&#39;: &#39;MKBHD&#39;, &#39;name&#39;: &#39;Marques Brownlee&#39;, &#39;id&#39;: 29873662, &#39;id_str&#39;: &#39;29873662&#39;, &#39;indices&#39;: [0, 6]}], &#39;urls&#39;: []}, source=&#39;Twitter for iPhone&#39;, source_url=&#39;http://twitter.com/download/iphone&#39;, in_reply_to_status_id=1311862203490983937, in_reply_to_status_id_str=&#39;1311862203490983937&#39;, in_reply_to_user_id=29873662, in_reply_to_user_id_str=&#39;29873662&#39;, in_reply_to_screen_name=&#39;MKBHD&#39;, geo=None, coordinates=None, place=None, contributors=None, is_quote_status=False, retweet_count=113, favorite_count=2929, favorited=False, retweeted=False, lang=&#39;en&#39;), contributors_enabled=False, is_translator=False, is_translation_enabled=False, profile_background_color=&#39;C0DEED&#39;, profile_background_image_url=&#39;http://abs.twimg.com/images/themes/theme1/bg.png&#39;, profile_background_image_url_https=&#39;https://abs.twimg.com/images/themes/theme1/bg.png&#39;, profile_background_tile=False, profile_image_url=&#39;http://pbs.twimg.com/profile_images/1295975423654977537/dHw9JcrK_normal.jpg&#39;, profile_image_url_https=&#39;https://pbs.twimg.com/profile_images/1295975423654977537/dHw9JcrK_normal.jpg&#39;, profile_banner_url=&#39;https://pbs.twimg.com/profile_banners/44196397/1576183471&#39;, profile_link_color=&#39;0084B4&#39;, profile_sidebar_border_color=&#39;C0DEED&#39;, profile_sidebar_fill_color=&#39;DDEEF6&#39;, profile_text_color=&#39;333333&#39;, profile_use_background_image=True, has_extended_profile=True, default_profile=False, default_profile_image=False, following=True, follow_request_sent=False, notifications=False, translator_type=&#39;none&#39;)"
     },
     "metadata": {},
     "execution_count": 16
    }
   ],
   "source": [
    "twitter_user = TWITTER.get_user('elonmusk')\n",
    "twitter_user"
   ]
  },
  {
   "cell_type": "code",
   "execution_count": 17,
   "metadata": {},
   "outputs": [
    {
     "output_type": "execute_result",
     "data": {
      "text/plain": "44196397"
     },
     "metadata": {},
     "execution_count": 17
    }
   ],
   "source": [
    "twitter_user.id"
   ]
  },
  {
   "cell_type": "code",
   "execution_count": 20,
   "metadata": {},
   "outputs": [
    {
     "output_type": "execute_result",
     "data": {
      "text/plain": "s&#39;: [87, 94]}], &#39;urls&#39;: [{&#39;url&#39;: &#39;https://t.co/nDU9eQEg31&#39;, &#39;expanded_url&#39;: &#39;https://twitter.com/i/web/status/1310731112176467968&#39;, &#39;display_url&#39;: &#39;twitter.com/i/web/status/1…&#39;, &#39;indices&#39;: [117, 140]}]}, &#39;source&#39;: &#39;&lt;a href=&quot;https://mobile.twitter.com&quot; rel=&quot;nofollow&quot;&gt;Twitter Web App&lt;/a&gt;&#39;, &#39;in_reply_to_status_id&#39;: None, &#39;in_reply_to_status_id_str&#39;: None, &#39;in_reply_to_user_id&#39;: None, &#39;in_reply_to_user_id_str&#39;: None, &#39;in_reply_to_screen_name&#39;: None, &#39;user&#39;: {&#39;id&#39;: 1275082205233111040, &#39;id_str&#39;: &#39;1275082205233111040&#39;, &#39;name&#39;: &#39;Kathy Lueders&#39;, &#39;screen_name&#39;: &#39;KathyLueders&#39;, &#39;location&#39;: &#39;&#39;, &#39;description&#39;: &quot;I lead NASA&#39;s human spaceflight program as the Associate Administrator of the Human Exploration and Operations Mission Directorate&quot;, &#39;url&#39;: &#39;https://t.co/B2FpmAI8x7&#39;, &#39;entities&#39;: {&#39;url&#39;: {&#39;urls&#39;: [{&#39;url&#39;: &#39;https://t.co/B2FpmAI8x7&#39;, &#39;expanded_url&#39;: &#39;https://www.nasa.gov/press-release/kathy-lueders-selected-to-lead-nasa-s-human-spaceflight-office/&#39;, &#39;display_url&#39;: &#39;nasa.gov/press-release/…&#39;, &#39;indices&#39;: [0, 23]}]}, &#39;description&#39;: {&#39;urls&#39;: []}}, &#39;protected&#39;: False, &#39;followers_count&#39;: 11554, &#39;friends_count&#39;: 50, &#39;listed_count&#39;: 133, &#39;created_at&#39;: &#39;Mon Jun 22 15:04:28 +0000 2020&#39;, &#39;favourites_count&#39;: 596, &#39;utc_offset&#39;: None, &#39;time_zone&#39;: None, &#39;geo_enabled&#39;: False, &#39;verified&#39;: True, &#39;statuses_count&#39;: 398, &#39;lang&#39;: None, &#39;contributors_enabled&#39;: False, &#39;is_translator&#39;: False, &#39;is_translation_enabled&#39;: False, &#39;profile_background_color&#39;: &#39;F5F8FA&#39;, &#39;profile_background_image_url&#39;: None, &#39;profile_background_image_url_https&#39;: None, &#39;profile_background_tile&#39;: False, &#39;profile_image_url&#39;: &#39;http://pbs.twimg.com/profile_images/1275795699637137409/uFlOilgY_normal.jpg&#39;, &#39;profile_image_url_https&#39;: &#39;https://pbs.twimg.com/profile_images/1275795699637137409/uFlOilgY_normal.jpg&#39;, &#39;profile_banner_url&#39;: &#39;https://pbs.twimg.com/profile_banners/1275082205233111040/1593008269&#39;, &#39;profile_link_color&#39;: &#39;1DA1F2&#39;, &#39;profile_sidebar_border_color&#39;: &#39;C0DEED&#39;, &#39;profile_sidebar_fill_color&#39;: &#39;DDEEF6&#39;, &#39;profile_text_color&#39;: &#39;333333&#39;, &#39;profile_use_background_image&#39;: True, &#39;has_extended_profile&#39;: False, &#39;default_profile&#39;: True, &#39;default_profile_image&#39;: False, &#39;following&#39;: False, &#39;follow_request_sent&#39;: False, &#39;notifications&#39;: False, &#39;translator_type&#39;: &#39;none&#39;}, &#39;geo&#39;: None, &#39;coordinates&#39;: None, &#39;place&#39;: None, &#39;contributors&#39;: None, &#39;is_quote_status&#39;: False, &#39;retweet_count&#39;: 4025, &#39;favorite_count&#39;: 26504, &#39;favorited&#39;: False, &#39;retweeted&#39;: False, &#39;possibly_sensitive&#39;: False, &#39;lang&#39;: &#39;en&#39;}, created_at=datetime.datetime(2020, 9, 29, 0, 0, 24), id=1310731112176467968, id_str=&#39;1310731112176467968&#39;, text=&#39;NEWS: We’re now targeting 2:40am ET Saturday, Oct. 31, for the launch of the @NASA and @SpaceX Crew-1 mission to se… https://t.co/nDU9eQEg31&#39;, truncated=True, entities={&#39;hashtags&#39;: [], &#39;symbols&#39;: [], &#39;user_mentions&#39;: [{&#39;screen_name&#39;: &#39;NASA&#39;, &#39;name&#39;: &#39;NASA&#39;, &#39;id&#39;: 11348282, &#39;id_str&#39;: &#39;11348282&#39;, &#39;indices&#39;: [77, 82]}, {&#39;screen_name&#39;: &#39;SpaceX&#39;, &#39;name&#39;: &#39;SpaceX&#39;, &#39;id&#39;: 34743251, &#39;id_str&#39;: &#39;34743251&#39;, &#39;indices&#39;: [87, 94]}], &#39;urls&#39;: [{&#39;url&#39;: &#39;https://t.co/nDU9eQEg31&#39;, &#39;expanded_url&#39;: &#39;https://twitter.com/i/web/status/1310731112176467968&#39;, &#39;display_url&#39;: &#39;twitter.com/i/web/status/1…&#39;, &#39;indices&#39;: [117, 140]}]}, source=&#39;Twitter Web App&#39;, source_url=&#39;https://mobile.twitter.com&#39;, in_reply_to_status_id=None, in_reply_to_status_id_str=None, in_reply_to_user_id=None, in_reply_to_user_id_str=None, in_reply_to_screen_name=None, author=User(_api=&lt;tweepy.api.API object at 0x10d07fa00&gt;, _json={&#39;id&#39;: 1275082205233111040, &#39;id_str&#39;: &#39;1275082205233111040&#39;, &#39;name&#39;: &#39;Kathy Lueders&#39;, &#39;screen_name&#39;: &#39;KathyLueders&#39;, &#39;location&#39;: &#39;&#39;, &#39;description&#39;: &quot;I lead NASA&#39;s human spaceflight program as the Associate Administrator of the Human Exploration and Operations Mission Directorate&quot;, &#39;url&#39;: &#39;https://t.co/B2FpmAI8x7&#39;, &#39;entities&#39;: {&#39;url&#39;: {&#39;urls&#39;: [{&#39;url&#39;: &#39;https://t.co/B2FpmAI8x7&#39;, &#39;expanded_url&#39;: &#39;https://www.nasa.gov/press-release/kathy-lueders-selected-to-lead-nasa-s-human-spaceflight-office/&#39;, &#39;display_url&#39;: &#39;nasa.gov/press-release/…&#39;, &#39;indices&#39;: [0, 23]}]}, &#39;description&#39;: {&#39;urls&#39;: []}}, &#39;protected&#39;: False, &#39;followers_count&#39;: 11554, &#39;friends_count&#39;: 50, &#39;listed_count&#39;: 133, &#39;created_at&#39;: &#39;Mon Jun 22 15:04:28 +0000 2020&#39;, &#39;favourites_count&#39;: 596, &#39;utc_offset&#39;: None, &#39;time_zone&#39;: None, &#39;geo_enabled&#39;: False, &#39;verified&#39;: True, &#39;statuses_count&#39;: 398, &#39;lang&#39;: None, &#39;contributors_enabled&#39;: False, &#39;is_translator&#39;: False, &#39;is_translation_enabled&#39;: False, &#39;profile_background_color&#39;: &#39;F5F8FA&#39;, &#39;profile_background_image_url&#39;: None, &#39;profile_background_image_url_https&#39;: None, &#39;profile_background_tile&#39;: False, &#39;profile_image_url&#39;: &#39;http://pbs.twimg.com/profile_images/1275795699637137409/uFlOilgY_normal.jpg&#39;, &#39;profile_image_url_https&#39;: &#39;https://pbs.twimg.com/profile_images/1275795699637137409/uFlOilgY_normal.jpg&#39;, &#39;profile_banner_url&#39;: &#39;https://pbs.twimg.com/profile_banners/1275082205233111040/1593008269&#39;, &#39;profile_link_color&#39;: &#39;1DA1F2&#39;, &#39;profile_sidebar_border_color&#39;: &#39;C0DEED&#39;, &#39;profile_sidebar_fill_color&#39;: &#39;DDEEF6&#39;, &#39;profile_text_color&#39;: &#39;333333&#39;, &#39;profile_use_background_image&#39;: True, &#39;has_extended_profile&#39;: False, &#39;default_profile&#39;: True, &#39;default_profile_image&#39;: False, &#39;following&#39;: False, &#39;follow_request_sent&#39;: False, &#39;notifications&#39;: False, &#39;translator_type&#39;: &#39;none&#39;}, id=1275082205233111040, id_str=&#39;1275082205233111040&#39;, name=&#39;Kathy Lueders&#39;, screen_name=&#39;KathyLueders&#39;, location=&#39;&#39;, description=&quot;I lead NASA&#39;s human spaceflight program as the Associate Administrator of the Human Exploration and Operations Mission Directorate&quot;, url=&#39;https://t.co/B2FpmAI8x7&#39;, entities={&#39;url&#39;: {&#39;urls&#39;: [{&#39;url&#39;: &#39;https://t.co/B2FpmAI8x7&#39;, &#39;expanded_url&#39;: &#39;https://www.nasa.gov/press-release/kathy-lueders-selected-to-lead-nasa-s-human-spaceflight-office/&#39;, &#39;display_url&#39;: &#39;nasa.gov/press-release/…&#39;, &#39;indices&#39;: [0, 23]}]}, &#39;description&#39;: {&#39;urls&#39;: []}}, protected=False, followers_count=11554, friends_count=50, listed_count=133, created_at=datetime.datetime(2020, 6, 22, 15, 4, 28), favourites_count=596, utc_offset=None, time_zone=None, geo_enabled=False, verified=True, statuses_count=398, lang=None, contributors_enabled=False, is_translator=False, is_translation_enabled=False, profile_background_color=&#39;F5F8FA&#39;, profile_background_image_url=None, profile_background_image_url_https=None, profile_background_tile=False, profile_image_url=&#39;http://pbs.twimg.com/profile_images/1275795699637137409/uFlOilgY_normal.jpg&#39;, profile_image_url_https=&#39;https://pbs.twimg.com/profile_images/1275795699637137409/uFlOilgY_normal.jpg&#39;, profile_banner_url=&#39;https://pbs.twimg.com/profile_banners/1275082205233111040/1593008269&#39;, profile_link_color=&#39;1DA1F2&#39;, profile_sidebar_border_color=&#39;C0DEED&#39;, profile_sidebar_fill_color=&#39;DDEEF6&#39;, profile_text_color=&#39;333333&#39;, profile_use_background_image=True, has_extended_profile=False, default_profile=True, default_profile_image=False, following=False, follow_request_sent=False, notifications=False, translator_type=&#39;none&#39;), user=User(_api=&lt;tweepy.api.API object at 0x10d07fa00&gt;, _json={&#39;id&#39;: 1275082205233111040, &#39;id_str&#39;: &#39;1275082205233111040&#39;, &#39;name&#39;: &#39;Kathy Lueders&#39;, &#39;screen_name&#39;: &#39;KathyLueders&#39;, &#39;location&#39;: &#39;&#39;, &#39;description&#39;: &quot;I lead NASA&#39;s human spaceflight program as the Associate Administrator of the Human Exploration and Operations Mission Directorate&quot;, &#39;url&#39;: &#39;https://t.co/B2FpmAI8x7&#39;, &#39;entities&#39;: {&#39;url&#39;: {&#39;urls&#39;: [{&#39;url&#39;: &#39;https://t.co/B2FpmAI8x7&#39;, &#39;expanded_url&#39;: &#39;https://www.nasa.gov/press-release/kathy-lueders-selected-to-lead-nasa-s-human-spaceflight-office/&#39;, &#39;display_url&#39;: &#39;nasa.gov/press-release/…&#39;, &#39;indices&#39;: [0, 23]}]}, &#39;description&#39;: {&#39;urls&#39;: []}}, &#39;protected&#39;: False, &#39;followers_count&#39;: 11554, &#39;friends_count&#39;: 50, &#39;listed_count&#39;: 133, &#39;created_at&#39;: &#39;Mon Jun 22 15:04:28 +0000 2020&#39;, &#39;favourites_count&#39;: 596, &#39;utc_offset&#39;: None, &#39;time_zone&#39;: None, &#39;geo_enabled&#39;: False, &#39;verified&#39;: True, &#39;statuses_count&#39;: 398, &#39;lang&#39;: None, &#39;contributors_enabled&#39;: False, &#39;is_translator&#39;: False, &#39;is_translation_enabled&#39;: False, &#39;profile_background_color&#39;: &#39;F5F8FA&#39;, &#39;profile_background_image_url&#39;: None, &#39;profile_background_image_url_https&#39;: None, &#39;profile_background_tile&#39;: False, &#39;profile_image_url&#39;: &#39;http://pbs.twimg.com/profile_images/1275795699637137409/uFlOilgY_normal.jpg&#39;, &#39;profile_image_url_https&#39;: &#39;https://pbs.twimg.com/profile_images/1275795699637137409/uFlOilgY_normal.jpg&#39;, &#39;profile_banner_url&#39;: &#39;https://pbs.twimg.com/profile_banners/1275082205233111040/1593008269&#39;, &#39;profile_link_color&#39;: &#39;1DA1F2&#39;, &#39;profile_sidebar_border_color&#39;: &#39;C0DEED&#39;, &#39;profile_sidebar_fill_color&#39;: &#39;DDEEF6&#39;, &#39;profile_text_color&#39;: &#39;333333&#39;, &#39;profile_use_background_image&#39;: True, &#39;has_extended_profile&#39;: False, &#39;default_profile&#39;: True, &#39;default_profile_image&#39;: False, &#39;following&#39;: False, &#39;follow_request_sent&#39;: False, &#39;notifications&#39;: False, &#39;translator_type&#39;: &#39;none&#39;}, id=1275082205233111040, id_str=&#39;1275082205233111040&#39;, name=&#39;Kathy Lueders&#39;, screen_name=&#39;KathyLueders&#39;, location=&#39;&#39;, description=&quot;I lead NASA&#39;s human spaceflight program as the Associate Administrator of the Human Exploration and Operations Mission Directorate&quot;, url=&#39;https://t.co/B2FpmAI8x7&#39;, entities={&#39;url&#39;: {&#39;urls&#39;: [{&#39;url&#39;: &#39;https://t.co/B2FpmAI8x7&#39;, &#39;expanded_url&#39;: &#39;https://www.nasa.gov/press-release/kathy-lueders-selected-to-lead-nasa-s-human-spaceflight-office/&#39;, &#39;display_url&#39;: &#39;nasa.gov/press-release/…&#39;, &#39;indices&#39;: [0, 23]}]}, &#39;description&#39;: {&#39;urls&#39;: []}}, protected=False, followers_count=11554, friends_count=50, listed_count=133, created_at=datetime.datetime(2020, 6, 22, 15, 4, 28), favourites_count=596, utc_offset=None, time_zone=None, geo_enabled=False, verified=True, statuses_count=398, lang=None, contributors_enabled=False, is_translator=False, is_translation_enabled=False, profile_background_color=&#39;F5F8FA&#39;, profile_background_image_url=None, profile_background_image_url_https=None, profile_background_tile=False, profile_image_url=&#39;http://pbs.twimg.com/profile_images/1275795699637137409/uFlOilgY_normal.jpg&#39;, profile_image_url_https=&#39;https://pbs.twimg.com/profile_images/1275795699637137409/uFlOilgY_normal.jpg&#39;, profile_banner_url=&#39;https://pbs.twimg.com/profile_banners/1275082205233111040/1593008269&#39;, profile_link_color=&#39;1DA1F2&#39;, profile_sidebar_border_color=&#39;C0DEED&#39;, profile_sidebar_fill_color=&#39;DDEEF6&#39;, profile_text_color=&#39;333333&#39;, profile_use_background_image=True, has_extended_profile=False, default_profile=True, default_profile_image=False, following=False, follow_request_sent=False, notifications=False, translator_type=&#39;none&#39;), geo=None, coordinates=None, place=None, contributors=None, is_quote_status=False, retweet_count=4025, favorite_count=26504, favorited=False, retweeted=False, possibly_sensitive=False, lang=&#39;en&#39;), is_quote_status=False, retweet_count=4025, favorite_count=0, favorited=False, retweeted=False, lang=&#39;en&#39;),\n Status(_api=&lt;tweepy.api.API object at 0x10d07fa00&gt;, _json={&#39;created_at&#39;: &#39;Tue Sep 29 00:20:37 +0000 2020&#39;, &#39;id&#39;: 1310736203482836993, &#39;id_str&#39;: &#39;1310736203482836993&#39;, &#39;text&#39;: &#39;@ValaAfshar @Tesla Having a low center of gravity makes a world of difference to safety&#39;, &#39;truncated&#39;: False, &#39;entities&#39;: {&#39;hashtags&#39;: [], &#39;symbols&#39;: [], &#39;user_mentions&#39;: [{&#39;screen_name&#39;: &#39;ValaAfshar&#39;, &#39;name&#39;: &#39;Vala Afshar&#39;, &#39;id&#39;: 259725229, &#39;id_str&#39;: &#39;259725229&#39;, &#39;indices&#39;: [0, 11]}, {&#39;screen_name&#39;: &#39;Tesla&#39;, &#39;name&#39;: &#39;Tesla&#39;, &#39;id&#39;: 13298072, &#39;id_str&#39;: &#39;13298072&#39;, &#39;indices&#39;: [12, 18]}], &#39;urls&#39;: []}, &#39;source&#39;: &#39;&lt;a href=&quot;http://twitter.com/download/iphone&quot; rel=&quot;nofollow&quot;&gt;Twitter for iPhone&lt;/a&gt;&#39;, &#39;in_reply_to_status_id&#39;: 1310623334367989761, &#39;in_reply_to_status_id_str&#39;: &#39;1310623334367989761&#39;, &#39;in_reply_to_user_id&#39;: 259725229, &#39;in_reply_to_user_id_str&#39;: &#39;259725229&#39;, &#39;in_reply_to_screen_name&#39;: &#39;ValaAfshar&#39;, &#39;user&#39;: {&#39;id&#39;: 44196397, &#39;id_str&#39;: &#39;44196397&#39;, &#39;name&#39;: &#39;Elon Musk&#39;, &#39;screen_name&#39;: &#39;elonmusk&#39;, &#39;location&#39;: &#39;&#39;, &#39;description&#39;: &#39;&#39;, &#39;url&#39;: None, &#39;entities&#39;: {&#39;description&#39;: {&#39;urls&#39;: []}}, &#39;protected&#39;: False, &#39;followers_count&#39;: 39058429, &#39;friends_count&#39;: 97, &#39;listed_count&#39;: 56239, &#39;created_at&#39;: &#39;Tue Jun 02 20:12:29 +0000 2009&#39;, &#39;favourites_count&#39;: 6757, &#39;utc_offset&#39;: None, &#39;time_zone&#39;: None, &#39;geo_enabled&#39;: False, &#39;verified&#39;: True, &#39;statuses_count&#39;: 12446, &#39;lang&#39;: None, &#39;contributors_enabled&#39;: False, &#39;is_translator&#39;: False, &#39;is_translation_enabled&#39;: False, &#39;profile_background_color&#39;: &#39;C0DEED&#39;, &#39;profile_background_image_url&#39;: &#39;http://abs.twimg.com/images/themes/theme1/bg.png&#39;, &#39;profile_background_image_url_https&#39;: &#39;https://abs.twimg.com/images/themes/theme1/bg.png&#39;, &#39;profile_background_tile&#39;: False, &#39;profile_image_url&#39;: &#39;http://pbs.twimg.com/profile_images/1295975423654977537/dHw9JcrK_normal.jpg&#39;, &#39;profile_image_url_https&#39;: &#39;https://pbs.twimg.com/profile_images/1295975423654977537/dHw9JcrK_normal.jpg&#39;, &#39;profile_banner_url&#39;: &#39;https://pbs.twimg.com/profile_banners/44196397/1576183471&#39;, &#39;profile_link_color&#39;: &#39;0084B4&#39;, &#39;profile_sidebar_border_color&#39;: &#39;C0DEED&#39;, &#39;profile_sidebar_fill_color&#39;: &#39;DDEEF6&#39;, &#39;profile_text_color&#39;: &#39;333333&#39;, &#39;profile_use_background_image&#39;: True, &#39;has_extended_profile&#39;: True, &#39;default_profile&#39;: False, &#39;default_profile_image&#39;: False, &#39;following&#39;: True, &#39;follow_request_sent&#39;: False, &#39;notifications&#39;: False, &#39;translator_type&#39;: &#39;none&#39;}, &#39;geo&#39;: None, &#39;coordinates&#39;: None, &#39;place&#39;: None, &#39;contributors&#39;: None, &#39;is_quote_status&#39;: False, &#39;retweet_count&#39;: 273, &#39;favorite_count&#39;: 5311, &#39;favorited&#39;: False, &#39;retweeted&#39;: False, &#39;lang&#39;: &#39;en&#39;}, created_at=datetime.datetime(2020, 9, 29, 0, 20, 37), id=1310736203482836993, id_str=&#39;1310736203482836993&#39;, text=&#39;@ValaAfshar @Tesla Having a low center of gravity makes a world of difference to safety&#39;, truncated=False, entities={&#39;hashtags&#39;: [], &#39;symbols&#39;: [], &#39;user_mentions&#39;: [{&#39;screen_name&#39;: &#39;ValaAfshar&#39;, &#39;name&#39;: &#39;Vala Afshar&#39;, &#39;id&#39;: 259725229, &#39;id_str&#39;: &#39;259725229&#39;, &#39;indices&#39;: [0, 11]}, {&#39;screen_name&#39;: &#39;Tesla&#39;, &#39;name&#39;: &#39;Tesla&#39;, &#39;id&#39;: 13298072, &#39;id_str&#39;: &#39;13298072&#39;, &#39;indices&#39;: [12, 18]}], &#39;urls&#39;: []}, source=&#39;Twitter for iPhone&#39;, source_url=&#39;http://twitter.com/download/iphone&#39;, in_reply_to_status_id=1310623334367989761, in_reply_to_status_id_str=&#39;1310623334367989761&#39;, in_reply_to_user_id=259725229, in_reply_to_user_id_str=&#39;259725229&#39;, in_reply_to_screen_name=&#39;ValaAfshar&#39;, author=User(_api=&lt;tweepy.api.API object at 0x10d07fa00&gt;, _json={&#39;id&#39;: 44196397, &#39;id_str&#39;: &#39;44196397&#39;, &#39;name&#39;: &#39;Elon Musk&#39;, &#39;screen_name&#39;: &#39;elonmusk&#39;, &#39;location&#39;: &#39;&#39;, &#39;description&#39;: &#39;&#39;, &#39;url&#39;: None, &#39;entities&#39;: {&#39;description&#39;: {&#39;urls&#39;: []}}, &#39;protected&#39;: False, &#39;followers_count&#39;: 39058429, &#39;friends_count&#39;: 97, &#39;listed_count&#39;: 56239, &#39;created_at&#39;: &#39;Tue Jun 02 20:12:29 +0000 2009&#39;, &#39;favourites_count&#39;: 6757, &#39;utc_offset&#39;: None, &#39;time_zone&#39;: None, &#39;geo_enabled&#39;: False, &#39;verified&#39;: True, &#39;statuses_count&#39;: 12446, &#39;lang&#39;: None, &#39;contributors_enabled&#39;: False, &#39;is_translator&#39;: False, &#39;is_translation_enabled&#39;: False, &#39;profile_background_color&#39;: &#39;C0DEED&#39;, &#39;profile_background_image_url&#39;: &#39;http://abs.twimg.com/images/themes/theme1/bg.png&#39;, &#39;profile_background_image_url_https&#39;: &#39;https://abs.twimg.com/images/themes/theme1/bg.png&#39;, &#39;profile_background_tile&#39;: False, &#39;profile_image_url&#39;: &#39;http://pbs.twimg.com/profile_images/1295975423654977537/dHw9JcrK_normal.jpg&#39;, &#39;profile_image_url_https&#39;: &#39;https://pbs.twimg.com/profile_images/1295975423654977537/dHw9JcrK_normal.jpg&#39;, &#39;profile_banner_url&#39;: &#39;https://pbs.twimg.com/profile_banners/44196397/1576183471&#39;, &#39;profile_link_color&#39;: &#39;0084B4&#39;, &#39;profile_sidebar_border_color&#39;: &#39;C0DEED&#39;, &#39;profile_sidebar_fill_color&#39;: &#39;DDEEF6&#39;, &#39;profile_text_color&#39;: &#39;333333&#39;, &#39;profile_use_background_image&#39;: True, &#39;has_extended_profile&#39;: True, &#39;default_profile&#39;: False, &#39;default_profile_image&#39;: False, &#39;following&#39;: True, &#39;follow_request_sent&#39;: False, &#39;notifications&#39;: False, &#39;translator_type&#39;: &#39;none&#39;}, id=44196397, id_str=&#39;44196397&#39;, name=&#39;Elon Musk&#39;, screen_name=&#39;elonmusk&#39;, location=&#39;&#39;, description=&#39;&#39;, url=None, entities={&#39;description&#39;: {&#39;urls&#39;: []}}, protected=False, followers_count=39058429, friends_count=97, listed_count=56239, created_at=datetime.datetime(2009, 6, 2, 20, 12, 29), favourites_count=6757, utc_offset=None, time_zone=None, geo_enabled=False, verified=True, statuses_count=12446, lang=None, contributors_enabled=False, is_translator=False, is_translation_enabled=False, profile_background_color=&#39;C0DEED&#39;, profile_background_image_url=&#39;http://abs.twimg.com/images/themes/theme1/bg.png&#39;, profile_background_image_url_https=&#39;https://abs.twimg.com/images/themes/theme1/bg.png&#39;, profile_background_tile=False, profile_image_url=&#39;http://pbs.twimg.com/profile_images/1295975423654977537/dHw9JcrK_normal.jpg&#39;, profile_image_url_https=&#39;https://pbs.twimg.com/profile_images/1295975423654977537/dHw9JcrK_normal.jpg&#39;, profile_banner_url=&#39;https://pbs.twimg.com/profile_banners/44196397/1576183471&#39;, profile_link_color=&#39;0084B4&#39;, profile_sidebar_border_color=&#39;C0DEED&#39;, profile_sidebar_fill_color=&#39;DDEEF6&#39;, profile_text_color=&#39;333333&#39;, profile_use_background_image=True, has_extended_profile=True, default_profile=False, default_profile_image=False, following=True, follow_request_sent=False, notifications=False, translator_type=&#39;none&#39;), user=User(_api=&lt;tweepy.api.API object at 0x10d07fa00&gt;, _json={&#39;id&#39;: 44196397, &#39;id_str&#39;: &#39;44196397&#39;, &#39;name&#39;: &#39;Elon Musk&#39;, &#39;screen_name&#39;: &#39;elonmusk&#39;, &#39;location&#39;: &#39;&#39;, &#39;description&#39;: &#39;&#39;, &#39;url&#39;: None, &#39;entities&#39;: {&#39;description&#39;: {&#39;urls&#39;: []}}, &#39;protected&#39;: False, &#39;followers_count&#39;: 39058429, &#39;friends_count&#39;: 97, &#39;listed_count&#39;: 56239, &#39;created_at&#39;: &#39;Tue Jun 02 20:12:29 +0000 2009&#39;, &#39;favourites_count&#39;: 6757, &#39;utc_offset&#39;: None, &#39;time_zone&#39;: None, &#39;geo_enabled&#39;: False, &#39;verified&#39;: True, &#39;statuses_count&#39;: 12446, &#39;lang&#39;: None, &#39;contributors_enabled&#39;: False, &#39;is_translator&#39;: False, &#39;is_translation_enabled&#39;: False, &#39;profile_background_color&#39;: &#39;C0DEED&#39;, &#39;profile_background_image_url&#39;: &#39;http://abs.twimg.com/images/themes/theme1/bg.png&#39;, &#39;profile_background_image_url_https&#39;: &#39;https://abs.twimg.com/images/themes/theme1/bg.png&#39;, &#39;profile_background_tile&#39;: False, &#39;profile_image_url&#39;: &#39;http://pbs.twimg.com/profile_images/1295975423654977537/dHw9JcrK_normal.jpg&#39;, &#39;profile_image_url_https&#39;: &#39;https://pbs.twimg.com/profile_images/1295975423654977537/dHw9JcrK_normal.jpg&#39;, &#39;profile_banner_url&#39;: &#39;https://pbs.twimg.com/profile_banners/44196397/1576183471&#39;, &#39;profile_link_color&#39;: &#39;0084B4&#39;, &#39;profile_sidebar_border_color&#39;: &#39;C0DEED&#39;, &#39;profile_sidebar_fill_color&#39;: &#39;DDEEF6&#39;, &#39;profile_text_color&#39;: &#39;333333&#39;, &#39;profile_use_background_image&#39;: True, &#39;has_extended_profile&#39;: True, &#39;default_profile&#39;: False, &#39;default_profile_image&#39;: False, &#39;following&#39;: True, &#39;follow_request_sent&#39;: False, &#39;notifications&#39;: False, &#39;translator_type&#39;: &#39;none&#39;}, id=44196397, id_str=&#39;44196397&#39;, name=&#39;Elon Musk&#39;, screen_name=&#39;elonmusk&#39;, location=&#39;&#39;, description=&#39;&#39;, url=None, entities={&#39;description&#39;: {&#39;urls&#39;: []}}, protected=False, followers_count=39058429, friends_count=97, listed_count=56239, created_at=datetime.datetime(2009, 6, 2, 20, 12, 29), favourites_count=6757, utc_offset=None, time_zone=None, geo_enabled=False, verified=True, statuses_count=12446, lang=None, contributors_enabled=False, is_translator=False, is_translation_enabled=False, profile_background_color=&#39;C0DEED&#39;, profile_background_image_url=&#39;http://abs.twimg.com/images/themes/theme1/bg.png&#39;, profile_background_image_url_https=&#39;https://abs.twimg.com/images/themes/theme1/bg.png&#39;, profile_background_tile=False, profile_image_url=&#39;http://pbs.twimg.com/profile_images/1295975423654977537/dHw9JcrK_normal.jpg&#39;, profile_image_url_https=&#39;https://pbs.twimg.com/profile_images/1295975423654977537/dHw9JcrK_normal.jpg&#39;, profile_banner_url=&#39;https://pbs.twimg.com/profile_banners/44196397/1576183471&#39;, profile_link_color=&#39;0084B4&#39;, profile_sidebar_border_color=&#39;C0DEED&#39;, profile_sidebar_fill_color=&#39;DDEEF6&#39;, profile_text_color=&#39;333333&#39;, profile_use_background_image=True, has_extended_profile=True, default_profile=False, default_profile_image=False, following=True, follow_request_sent=False, notifications=False, translator_type=&#39;none&#39;), geo=None, coordinates=None, place=None, contributors=None, is_quote_status=False, retweet_count=273, favorite_count=5311, favorited=False, retweeted=False, lang=&#39;en&#39;)]"
     },
     "metadata": {},
     "execution_count": 20
    }
   ],
   "source": [
    "elon_tweets = twitter_user.timeline()\n",
    "elon_tweets"
   ]
  },
  {
   "cell_type": "code",
   "execution_count": 21,
   "metadata": {},
   "outputs": [
    {
     "output_type": "execute_result",
     "data": {
      "text/plain": "&#39;@MKBHD It’s next-level&#39;"
     },
     "metadata": {},
     "execution_count": 21
    }
   ],
   "source": [
    "elon_tweets[0].text"
   ]
  },
  {
   "cell_type": "code",
   "execution_count": 22,
   "metadata": {},
   "outputs": [
    {
     "output_type": "execute_result",
     "data": {
      "text/plain": "20"
     },
     "metadata": {},
     "execution_count": 22
    }
   ],
   "source": [
    "len(elon_tweets)"
   ]
  },
  {
   "cell_type": "code",
   "execution_count": 24,
   "metadata": {},
   "outputs": [
    {
     "output_type": "execute_result",
     "data": {
      "text/plain": "20"
     },
     "metadata": {},
     "execution_count": 24
    }
   ],
   "source": [
    "elon_tweets = twitter_user.timeline(count=200,\n",
    "                                    exclude_replies=True,\n",
    "                                    include_rts=False,\n",
    "                                    # max_id='1303802636827799555',\n",
    "                                    tweet_mode='extended')\n",
    "len(elon_tweets)"
   ]
  },
  {
   "cell_type": "code",
   "execution_count": 26,
   "metadata": {},
   "outputs": [],
   "source": [
    "### SpaCy Embeddings"
   ]
  },
  {
   "cell_type": "code",
   "execution_count": 25,
   "metadata": {},
   "outputs": [
    {
     "output_type": "execute_result",
     "data": {
      "text/plain": "&#39;Thanks Tesla Team for great work on deliveries! For new owners, we super appreciate accommodating us on delivery timing! Definitely one of our toughest quarters in global logistics.&#39;"
     },
     "metadata": {},
     "execution_count": 25
    }
   ],
   "source": [
    "elon_tweets[1].full_text"
   ]
  },
  {
   "cell_type": "markdown",
   "metadata": {},
   "source": [
    "### Bringing it all together"
   ]
  },
  {
   "cell_type": "code",
   "execution_count": 27,
   "metadata": {},
   "outputs": [],
   "source": [
    "import spacy"
   ]
  },
  {
   "cell_type": "code",
   "execution_count": null,
   "metadata": {},
   "outputs": [],
   "source": []
  },
  {
   "cell_type": "code",
   "execution_count": 31,
   "metadata": {},
   "outputs": [],
   "source": [
    "nlp = spacy.load('en_core_web_md', disable=['tagger', 'parser'])\n"
   ]
  },
  {
   "cell_type": "code",
   "execution_count": 32,
   "metadata": {
    "tags": []
   },
   "outputs": [
    {
     "output_type": "stream",
     "name": "stdout",
     "text": "dog True False\ncat True False\nbanana True False\ndaslkfjsalkjf False True\n"
    }
   ],
   "source": [
    "tokens = nlp(\"dog cat banana daslkfjsalkjf\")\n",
    "\n",
    "for token in tokens:\n",
    "    print(token.text, token.has_vector, token.is_oov)"
   ]
  },
  {
   "cell_type": "code",
   "execution_count": 33,
   "metadata": {},
   "outputs": [
    {
     "output_type": "execute_result",
     "data": {
      "text/plain": "array([-7.18728974e-02,  2.97771603e-01, -4.37522531e-02, -9.79740024e-02,\n        4.59395424e-02, -3.88047807e-02,  3.99180166e-02, -7.35119805e-02,\n        3.98872793e-03,  2.01765513e+00, -2.38754973e-01,  2.12704055e-02,\n        8.11695009e-02,  1.66987125e-02, -8.19785967e-02, -6.95483238e-02,\n       -2.74287034e-02,  1.25038862e+00, -1.28530279e-01,  2.90594762e-05,\n       -5.21141551e-02, -3.50238159e-02,  1.05087506e-02, -1.24235503e-01,\n       -1.24730393e-02,  5.62962256e-02, -3.33214998e-02,  1.79408919e-02,\n        1.17023543e-01,  6.33955300e-02, -1.05149280e-02,  7.00587034e-03,\n        1.02100158e-02,  5.21205254e-02,  2.21641902e-02, -1.03850383e-02,\n        1.10859096e-01,  2.63785105e-02, -5.55697009e-02, -5.03252819e-02,\n       -3.23525891e-02,  3.56648043e-02, -4.33265492e-02,  1.17488541e-02,\n        4.55410555e-02,  6.37782365e-02, -6.36666790e-02,  1.10338390e-01,\n        3.09718102e-02,  3.20692435e-02,  1.37490273e-01,  4.57462249e-03,\n        4.86723036e-02,  6.67551253e-03,  3.13929655e-02,  8.62749815e-02,\n       -1.11374194e-02,  4.47249562e-02,  3.31498007e-03, -5.74270217e-03,\n        3.07303108e-02, -6.02622181e-02, -9.15015563e-02,  8.47303420e-02,\n        1.76237032e-01, -1.08162880e-01, -6.28397539e-02,  1.95343986e-01,\n        2.96583306e-03,  6.99516386e-02,  7.69446567e-02, -2.71068327e-02,\n        1.30151793e-01,  6.67512119e-02,  8.31283182e-02,  7.23191053e-02,\n        8.30874518e-02, -1.77877083e-01,  2.41387505e-02,  2.55323023e-01,\n       -1.53282611e-02,  1.90716296e-01,  2.41570119e-02,  1.07789047e-01,\n        5.61978519e-02, -1.61412790e-01, -1.53349847e-01,  1.04793407e-01,\n        2.14813620e-01,  1.14962615e-01, -6.14468679e-02,  8.11702609e-02,\n       -1.16237670e-01,  1.19459480e-01,  1.95227806e-02,  2.66791042e-03,\n       -3.55360582e-02, -1.44009709e-01,  6.20629862e-02,  4.04581279e-02,\n       -2.25283094e-02, -8.08159262e-02, -1.19533934e-01, -9.89675671e-02,\n        7.48424307e-02, -6.80329561e-01,  2.42613450e-01,  1.62540749e-03,\n       -1.80570502e-02, -7.51554966e-02,  6.45366609e-02, -3.13452184e-01,\n        2.00348556e-01, -6.66597486e-02,  1.52041495e-01, -5.00390269e-02,\n       -3.07121314e-03,  4.37722020e-02,  3.27696651e-02, -5.41088283e-02,\n        1.73596695e-01,  1.43721867e-02, -9.05687548e-03, -1.56379566e-02,\n        4.68055271e-02, -6.89085126e-02, -4.90434235e-03, -1.11633651e-01,\n       -2.41696462e-03, -2.10552830e-02,  9.30801556e-02, -1.04950927e-01,\n       -1.45046681e-01, -1.29555225e-01, -7.80383721e-02,  8.19981247e-02,\n        6.13355916e-03,  2.80891228e-02,  1.30869802e-02,  6.10204339e-02,\n       -1.03224123e+00, -4.68957424e-02,  2.50118315e-01, -7.39565268e-02,\n       -2.09631845e-02, -6.02852479e-02, -8.11907202e-02,  1.21797718e-01,\n        3.12080011e-02,  7.12295398e-02, -1.36726767e-01,  1.04349375e-01,\n        6.45553023e-02, -1.13554366e-01, -1.39615666e-02,  1.18705444e-02,\n        2.42273137e-02,  1.17521901e-02,  2.01666355e-02, -6.10048175e-02,\n        1.59163754e-02,  9.54541788e-02, -8.37836862e-02, -2.25759655e-01,\n        4.18915302e-02, -1.23542577e-01,  7.70259276e-02, -4.50729169e-02,\n        1.67365581e-01,  1.29240956e-02, -4.52971756e-02,  2.45449990e-02,\n       -5.53619005e-02,  8.49030446e-04, -2.10723933e-02,  2.45078132e-02,\n       -8.35322961e-02,  3.22688594e-02, -5.54977451e-03,  1.04432948e-01,\n        6.50760457e-02, -3.10654584e-02, -3.47904377e-02, -4.35962901e-02,\n       -3.62151489e-02, -1.48531824e-01,  4.89001200e-02, -9.53290239e-02,\n        1.78144351e-02,  8.70078951e-02,  3.22275385e-02, -1.52026648e-02,\n        1.02377370e-01,  7.46993124e-02, -8.30820501e-02,  1.05568461e-01,\n        4.02315781e-02, -4.02995944e-02,  5.56065440e-02,  1.67116895e-01,\n       -1.31914765e-02, -1.30641773e-01, -1.40242307e-02,  1.17668621e-02,\n        2.34998360e-01,  3.97058241e-02, -7.86147565e-02,  1.32146552e-01,\n       -3.74980271e-02,  2.53164805e-02, -9.46906283e-02, -1.14393793e-01,\n        2.24837326e-02, -9.97002870e-02,  5.51822893e-02,  2.72453249e-01,\n        2.74442863e-02, -8.71340483e-02, -2.33997956e-01,  6.80648461e-02,\n       -6.54015467e-02, -1.23895872e-02, -7.38274083e-02,  7.22069219e-02,\n        4.70690541e-02, -2.09812857e-02, -1.37018226e-02,  1.13428362e-01,\n       -1.86559465e-02,  3.12478980e-03, -1.04861474e-02, -1.07135195e-02,\n       -8.91097710e-02,  4.10162210e-02, -4.67981882e-02, -1.58696678e-02,\n       -1.04384847e-01, -1.11733779e-01, -1.06406592e-01, -1.89326908e-02,\n        7.14297444e-02, -1.33480839e-02, -9.36789513e-02,  1.96486205e-01,\n        1.38266936e-01, -1.51436552e-02, -1.35019004e-01, -1.06947497e-01,\n       -9.82701182e-02,  9.57014933e-02, -2.58474387e-02, -2.38742083e-02,\n       -2.18522310e-01, -8.20079148e-02, -1.63871963e-02,  1.57001317e-01,\n        7.23562539e-02,  6.00356283e-03, -1.76588088e-01,  9.41399485e-03,\n        1.11727886e-01,  9.40055624e-02, -6.86573610e-02, -6.96496805e-03,\n       -7.32523501e-02, -1.24688171e-01,  4.78752479e-02,  1.35796696e-01,\n        3.15773875e-01,  8.97823051e-02, -2.11479440e-02,  3.21448855e-02,\n       -1.45821005e-01, -1.39348000e-01, -1.57641098e-01,  1.95562337e-02,\n        6.27864078e-02,  4.78537977e-02,  1.70315742e-01,  2.16949910e-01,\n        4.19298783e-02, -3.36873755e-02,  2.96377344e-03,  7.76188299e-02,\n       -6.18846640e-02, -4.78468165e-02,  1.46779880e-01, -1.75617099e-01,\n        1.73491500e-02,  2.29725279e-02, -2.30408028e-01, -8.96867216e-02,\n        3.24762389e-02, -1.26273083e-02,  4.69240136e-02, -1.17328279e-01,\n        2.95945331e-02, -4.93582748e-02, -1.08633772e-01,  1.63322538e-01],\n      dtype=float32)"
     },
     "metadata": {},
     "execution_count": 33
    }
   ],
   "source": [
    "tweet_embedding = nlp(elon_tweets[1].full_text)\n",
    "tweet_embedding.vector"
   ]
  },
  {
   "cell_type": "code",
   "execution_count": 34,
   "metadata": {},
   "outputs": [],
   "source": [
    "def vectorize_tweet(nlp, tweet_text):\n",
    "    return nlp(tweet_text).vector"
   ]
  },
  {
   "cell_type": "code",
   "execution_count": null,
   "metadata": {},
   "outputs": [],
   "source": [
    "def add_user_tweepy(username):\n",
    "    '''Add a user and their tweets to database'''\n",
    "    try:\n",
    "        # Get user info from tweepy\n",
    "        twitter_user = TWITTER.get_user(username)\n",
    "        # Add to User table (or check if existing)\n",
    "        db_user = (User.query.get(twitter_user.id) or\n",
    "                   User(id=twitter_user.id,\n",
    "                        username=username,\n",
    "                        follower_count=twitter_user.followers_count))\n",
    "        db.session.add(db_user)\n",
    "        # Get tweets ignoring re-tweets and replies\n",
    "        tweets = twitter_user.timeline(count=200,\n",
    "                                       exclude_replies=True,\n",
    "                                       include_rts=False,\n",
    "                                       tweet_mode='extended',\n",
    "                                       since_id=db_user.newest_tweet_id)\n",
    "        # Add newest_tweet_id to the User table\n",
    "        if tweets:\n",
    "            db_user.newest_tweet_id = tweets[0].id\n",
    "        # Loop over tweets, get embedding and add to Tweet table\n",
    "        for tweet in tweets:\n",
    "            # Get an examble basilica embedding for first tweet\n",
    "            embedding = BASILICA.embed_sentence(tweet.full_text, model='twitter')\n",
    "            # Add tweet info to Tweet table\n",
    "            db_tweet = Tweet(id=tweet.id,\n",
    "                             text=tweet.full_text[:300],\n",
    "                             embedding=embedding)\n",
    "            db_user.tweet.append(db_tweet)\n",
    "            db.session.add(db_tweet)\n",
    "    except Exception as e:\n",
    "        print('Error processing {}: {}'.format(username, e))\n",
    "        raise e\n",
    "    else:\n",
    "        # If no errors happend than commit the records\n",
    "        db.session.commit()"
   ]
  },
  {
   "cell_type": "code",
   "execution_count": null,
   "metadata": {},
   "outputs": [],
   "source": [
    "def add_or_update_user(username, nlp):\n",
    "    twitter_user = TWITTER.get_user(username)\n",
    "    tweets = twitter_user.timeline(count=200,\n",
    "                                    exclude_replies=True,\n",
    "                                    include_rts=False,\n",
    "                                    tweet_mode='extended')\n",
    "    embeddings = vectorize_tweet(nlp, tweets[0].full_text)"
   ]
  },
  {
   "cell_type": "code",
   "execution_count": 2,
   "metadata": {},
   "outputs": [],
   "source": [
    "import spacy\n",
    "\n",
    "import en_core_web_sm\n",
    "\n",
    "nlp = en_core_web_sm.load()\n",
    "nlp.to_disk('../spacy_sm_model/')"
   ]
  },
  {
   "cell_type": "code",
   "execution_count": 3,
   "metadata": {},
   "outputs": [
    {
     "output_type": "error",
     "ename": "OSError",
     "evalue": "[E050] Can&#39;t find model &#39;../spacy_md_model/&#39;. It doesn&#39;t seem to be a shortcut link, a Python package or a valid path to a data directory.",
     "traceback": [
      "\u001b[0;31m---------------------------------------------------------------------------\u001b[0m",
      "\u001b[0;31mOSError\u001b[0m                                   Traceback (most recent call last)",
      "\u001b[0;32m&lt;ipython-input-3-d60e4da1d724&gt;\u001b[0m in \u001b[0;36m&lt;module&gt;\u001b[0;34m\u001b[0m\n\u001b[0;32m----&gt; 1\u001b[0;31m \u001b[0mnlp2\u001b[0m \u001b[0;34m=\u001b[0m \u001b[0mspacy\u001b[0m\u001b[0;34m.\u001b[0m\u001b[0mload\u001b[0m\u001b[0;34m(\u001b[0m\u001b[0;34m&#39;../spacy_md_model/&#39;\u001b[0m\u001b[0;34m)\u001b[0m\u001b[0;34m\u001b[0m\u001b[0;34m\u001b[0m\u001b[0m\n\u001b[0m\u001b[1;32m      2\u001b[0m \u001b[0mnlp2\u001b[0m\u001b[0;34m(\u001b[0m\u001b[0;34m&#39;this is a sentence&#39;\u001b[0m\u001b[0;34m)\u001b[0m\u001b[0;34m.\u001b[0m\u001b[0mvector\u001b[0m\u001b[0;34m\u001b[0m\u001b[0;34m\u001b[0m\u001b[0m\n",
      "\u001b[0;32m~/.local/share/virtualenvs/3-3-twitoff-ne3l7tn3/lib/python3.8/site-packages/spacy/__init__.py\u001b[0m in \u001b[0;36mload\u001b[0;34m(name, **overrides)\u001b[0m\n\u001b[1;32m     28\u001b[0m     \u001b[0;32mif\u001b[0m \u001b[0mdepr_path\u001b[0m \u001b[0;32mnot\u001b[0m \u001b[0;32min\u001b[0m \u001b[0;34m(\u001b[0m\u001b[0;32mTrue\u001b[0m\u001b[0;34m,\u001b[0m \u001b[0;32mFalse\u001b[0m\u001b[0;34m,\u001b[0m \u001b[0;32mNone\u001b[0m\u001b[0;34m)\u001b[0m\u001b[0;34m:\u001b[0m\u001b[0;34m\u001b[0m\u001b[0;34m\u001b[0m\u001b[0m\n\u001b[1;32m     29\u001b[0m         \u001b[0mwarnings\u001b[0m\u001b[0;34m.\u001b[0m\u001b[0mwarn\u001b[0m\u001b[0;34m(\u001b[0m\u001b[0mWarnings\u001b[0m\u001b[0;34m.\u001b[0m\u001b[0mW001\u001b[0m\u001b[0;34m.\u001b[0m\u001b[0mformat\u001b[0m\u001b[0;34m(\u001b[0m\u001b[0mpath\u001b[0m\u001b[0;34m=\u001b[0m\u001b[0mdepr_path\u001b[0m\u001b[0;34m)\u001b[0m\u001b[0;34m,\u001b[0m \u001b[0mDeprecationWarning\u001b[0m\u001b[0;34m)\u001b[0m\u001b[0;34m\u001b[0m\u001b[0;34m\u001b[0m\u001b[0m\n\u001b[0;32m---&gt; 30\u001b[0;31m     \u001b[0;32mreturn\u001b[0m \u001b[0mutil\u001b[0m\u001b[0;34m.\u001b[0m\u001b[0mload_model\u001b[0m\u001b[0;34m(\u001b[0m\u001b[0mname\u001b[0m\u001b[0;34m,\u001b[0m \u001b[0;34m**\u001b[0m\u001b[0moverrides\u001b[0m\u001b[0;34m)\u001b[0m\u001b[0;34m\u001b[0m\u001b[0;34m\u001b[0m\u001b[0m\n\u001b[0m\u001b[1;32m     31\u001b[0m \u001b[0;34m\u001b[0m\u001b[0m\n\u001b[1;32m     32\u001b[0m \u001b[0;34m\u001b[0m\u001b[0m\n",
      "\u001b[0;32m~/.local/share/virtualenvs/3-3-twitoff-ne3l7tn3/lib/python3.8/site-packages/spacy/util.py\u001b[0m in \u001b[0;36mload_model\u001b[0;34m(name, **overrides)\u001b[0m\n\u001b[1;32m    173\u001b[0m     \u001b[0;32melif\u001b[0m \u001b[0mhasattr\u001b[0m\u001b[0;34m(\u001b[0m\u001b[0mname\u001b[0m\u001b[0;34m,\u001b[0m \u001b[0;34m&quot;exists&quot;\u001b[0m\u001b[0;34m)\u001b[0m\u001b[0;34m:\u001b[0m  \u001b[0;31m# Path or Path-like to model data\u001b[0m\u001b[0;34m\u001b[0m\u001b[0;34m\u001b[0m\u001b[0m\n\u001b[1;32m    174\u001b[0m         \u001b[0;32mreturn\u001b[0m \u001b[0mload_model_from_path\u001b[0m\u001b[0;34m(\u001b[0m\u001b[0mname\u001b[0m\u001b[0;34m,\u001b[0m \u001b[0;34m**\u001b[0m\u001b[0moverrides\u001b[0m\u001b[0;34m)\u001b[0m\u001b[0;34m\u001b[0m\u001b[0;34m\u001b[0m\u001b[0m\n\u001b[0;32m--&gt; 175\u001b[0;31m     \u001b[0;32mraise\u001b[0m \u001b[0mIOError\u001b[0m\u001b[0;34m(\u001b[0m\u001b[0mErrors\u001b[0m\u001b[0;34m.\u001b[0m\u001b[0mE050\u001b[0m\u001b[0;34m.\u001b[0m\u001b[0mformat\u001b[0m\u001b[0;34m(\u001b[0m\u001b[0mname\u001b[0m\u001b[0;34m=\u001b[0m\u001b[0mname\u001b[0m\u001b[0;34m)\u001b[0m\u001b[0;34m)\u001b[0m\u001b[0;34m\u001b[0m\u001b[0;34m\u001b[0m\u001b[0m\n\u001b[0m\u001b[1;32m    176\u001b[0m \u001b[0;34m\u001b[0m\u001b[0m\n\u001b[1;32m    177\u001b[0m \u001b[0;34m\u001b[0m\u001b[0m\n",
      "\u001b[0;31mOSError\u001b[0m: [E050] Can&#39;t find model &#39;../spacy_md_model/&#39;. It doesn&#39;t seem to be a shortcut link, a Python package or a valid path to a data directory."
     ]
    }
   ],
   "source": [
    "nlp2 = spacy.load('../spacy_sm_model')\n",
    "nlp2('this is a sentence').vector"
   ]
  },
  {
   "cell_type": "code",
   "execution_count": null,
   "metadata": {},
   "outputs": [],
   "source": []
  }
 ],
 "metadata": {
  "colab": {
   "collapsed_sections": [],
   "name": "DSPT6_APIs_Demo.ipynb",
   "provenance": []
  },
  "kernelspec": {
   "name": "Python 3.8.5 64-bit ('3-3-twitoff': pipenv)",
   "display_name": "Python 3.8.5 64-bit ('3-3-twitoff': pipenv)",
   "metadata": {
    "interpreter": {
     "hash": "42dc920d60cf93844c16faa5a2541149ea2f9f2b9794670b8d07ae4467f4499f"
    }
   }
  },
  "language_info": {
   "codemirror_mode": {
    "name": "ipython",
    "version": 3
   },
   "file_extension": ".py",
   "mimetype": "text/x-python",
   "name": "python",
   "nbconvert_exporter": "python",
   "pygments_lexer": "ipython3",
   "version": "3.8.5-final"
  }
 },
 "nbformat": 4,
 "nbformat_minor": 4
}